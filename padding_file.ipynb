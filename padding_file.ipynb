{
 "cells": [
  {
   "cell_type": "code",
   "execution_count": null,
   "metadata": {},
   "outputs": [],
   "source": [
    "from PIL import Image\n",
    "\n",
    "def resize_with_center_crop(image_path, target_size):\n",
    "    image = Image.open(image_path)\n",
    "    old_size = image.size\n",
    "    ratio = max(old_size) / float(target_size)\n",
    "    new_size = tuple([int(x / ratio) for x in old_size])\n",
    "    image = image.resize(new_size, Image.ANTIALIAS)\n",
    "    left = (new_size[0] - target_size) / 2\n",
    "    top = (new_size[1] - target_size) / 2\n",
    "    right = (new_size[0] + target_size) / 2\n",
    "    bottom = (new_size[1] + target_size) / 2\n",
    "    cropped_image = image.crop((left, top, right, bottom))\n",
    "    return cropped_image\n",
    "\n",
    "# Example usage\n",
    "image_path = 'C:/test001/ttt/cnn_classifier/images/air.jpg'\n",
    "target_size = 28  # Specify the target size as a single integer for square cropping\n",
    "cropped_image = resize_with_center_crop(image_path, target_size)\n",
    "\n",
    "# Display the cropped image (optional)\n",
    "cropped_image.show()\n"
   ]
  },
  {
   "cell_type": "code",
   "execution_count": 1,
   "metadata": {},
   "outputs": [
    {
     "name": "stdout",
     "output_type": "stream",
     "text": [
      "(28, 28, 1)\n"
     ]
    }
   ],
   "source": [
    "from PIL import Image, ImageOps\n",
    "import numpy as np\n",
    "\n",
    "def resize_with_padding(image_path, target_size):\n",
    "    image = Image.open(image_path).convert('L')  # Convert to grayscale\n",
    "    image = ImageOps.invert(image)  # Invert colors if needed\n",
    "    old_size = image.size\n",
    "    ratio = float(target_size) / max(old_size)\n",
    "    new_size = tuple([int(x * ratio) for x in old_size])\n",
    "    image = image.resize(new_size, Image.LANCZOS)\n",
    "\n",
    "    new_image = Image.new(\"L\", (target_size, target_size), 0)  # Create new image with black padding\n",
    "    new_image.paste(image, ((target_size - new_size[0]) // 2, (target_size - new_size[1]) // 2))\n",
    "    \n",
    "    return new_image\n",
    "\n",
    "# Example usage\n",
    "image_path = 'C:/test001/ttt/cnn_classifier/iamges/air.jpg'\n",
    "target_size = 28  # Specify the target size as a single integer for square cropping\n",
    "padded_image = resize_with_padding(image_path, target_size)\n",
    "\n",
    "# Convert to NumPy array and ensure shape is (28, 28, 1)\n",
    "image_array1 = np.array(padded_image)\n",
    "image_array1 = np.expand_dims(image_array1, axis=-1)\n",
    "\n",
    "print(np.shape(image_array1))  # Should output (28, 28, 1)\n",
    "padded_image.show()"
   ]
  },
  {
   "cell_type": "code",
   "execution_count": null,
   "metadata": {},
   "outputs": [],
   "source": [
    "from PIL import Image, ImageOps\n",
    "\n",
    "def resize_with_padding1(image_path, target_size):\n",
    "    image = Image.open(image_path).convert('L')\n",
    "    image = ImageOps.invert(image)\n",
    "    old_size = image.size\n",
    "    ratio = float(target_size) / max(old_size)\n",
    "    new_size = tuple([int(x * ratio) for x in old_size])\n",
    "    image = image.resize(new_size, Image.LANCZOS)\n",
    "\n",
    "    new_image = Image.new(\"RGB\", (target_size, target_size), (0, 0, 0))\n",
    "    new_image.paste(image, ((target_size - new_size[0]) // 2, (target_size - new_size[1]) // 2))\n",
    "    return new_image\n",
    "\n",
    "# Example usage\n",
    "image_path = 'C:/test001/ttt/cnn_classifier/iamges/air.jpg'\n",
    "target_size = 28  # Specify the target size as a single integer for square cropping\n",
    "padded_image = resize_with_padding1(image_path, target_size)\n",
    "\n",
    "np.shape(padded_image)\n",
    "# Display the padded image (optional)\n",
    "padded_image.show()\n"
   ]
  },
  {
   "cell_type": "code",
   "execution_count": null,
   "metadata": {},
   "outputs": [],
   "source": []
  },
  {
   "cell_type": "code",
   "execution_count": 2,
   "metadata": {},
   "outputs": [
    {
     "ename": "TypeError",
     "evalue": "WebDriver.__init__() got an unexpected keyword argument 'executable_path'",
     "output_type": "error",
     "traceback": [
      "\u001b[1;31m---------------------------------------------------------------------------\u001b[0m",
      "\u001b[1;31mTypeError\u001b[0m                                 Traceback (most recent call last)",
      "Cell \u001b[1;32mIn[2], line 9\u001b[0m\n\u001b[0;32m      6\u001b[0m chromedriver_path \u001b[38;5;241m=\u001b[39m \u001b[38;5;124m'\u001b[39m\u001b[38;5;124mC:/Users/Mind/Downloads/driver/chromedriver-win64/chromedriver\u001b[39m\u001b[38;5;124m'\u001b[39m\n\u001b[0;32m      8\u001b[0m \u001b[38;5;66;03m# Create a new instance of the Chrome driver\u001b[39;00m\n\u001b[1;32m----> 9\u001b[0m driver \u001b[38;5;241m=\u001b[39m \u001b[43mwebdriver\u001b[49m\u001b[38;5;241;43m.\u001b[39;49m\u001b[43mChrome\u001b[49m\u001b[43m(\u001b[49m\u001b[43mexecutable_path\u001b[49m\u001b[38;5;241;43m=\u001b[39;49m\u001b[43mchromedriver_path\u001b[49m\u001b[43m)\u001b[49m\n\u001b[0;32m     11\u001b[0m \u001b[38;5;66;03m# Go to a website\u001b[39;00m\n\u001b[0;32m     12\u001b[0m driver\u001b[38;5;241m.\u001b[39mget(\u001b[38;5;124m\"\u001b[39m\u001b[38;5;124mhttp://www.google.com\u001b[39m\u001b[38;5;124m\"\u001b[39m)\n",
      "\u001b[1;31mTypeError\u001b[0m: WebDriver.__init__() got an unexpected keyword argument 'executable_path'"
     ]
    }
   ],
   "source": [
    "from selenium import webdriver\n",
    "from selenium.webdriver.common.by import By\n",
    "from selenium.webdriver.common.keys import Keys\n",
    "\n",
    "# Set the path to the chromedriver executable\n",
    "chromedriver_path = 'C:/Users/Mind/Downloads/driver/chromedriver-win64/chromedriver'\n",
    "\n",
    "# Create a new instance of the Chrome driver\n",
    "driver = webdriver.Chrome(executable_path=chromedriver_path)\n",
    "\n",
    "# Go to a website\n",
    "driver.get(\"http://www.google.com\")\n",
    "\n",
    "# Find the search box\n",
    "search_box = driver.find_element(By.NAME, \"q\")\n",
    "\n",
    "# Type a search query\n",
    "search_box.send_keys(\"OpenAI\")\n",
    "\n",
    "# Press Enter\n",
    "search_box.send_keys(Keys.RETURN)\n",
    "\n",
    "# Wait for the results to load and display the title\n",
    "driver.implicitly_wait(5)  # seconds\n",
    "print(driver.title)\n",
    "\n",
    "# Close the browser\n",
    "driver.quit()\n"
   ]
  },
  {
   "cell_type": "code",
   "execution_count": null,
   "metadata": {},
   "outputs": [],
   "source": []
  }
 ],
 "metadata": {
  "kernelspec": {
   "display_name": "ttt",
   "language": "python",
   "name": "python3"
  },
  "language_info": {
   "codemirror_mode": {
    "name": "ipython",
    "version": 3
   },
   "file_extension": ".py",
   "mimetype": "text/x-python",
   "name": "python",
   "nbconvert_exporter": "python",
   "pygments_lexer": "ipython3",
   "version": "3.12.4"
  }
 },
 "nbformat": 4,
 "nbformat_minor": 2
}
